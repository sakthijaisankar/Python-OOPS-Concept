{
  "nbformat": 4,
  "nbformat_minor": 0,
  "metadata": {
    "colab": {
      "provenance": []
    },
    "kernelspec": {
      "name": "python3",
      "display_name": "Python 3"
    },
    "language_info": {
      "name": "python"
    }
  },
  "cells": [
    {
      "cell_type": "markdown",
      "source": [
        "# OOPS CONCEPT"
      ],
      "metadata": {
        "id": "3BldF9rt2Jv6"
      }
    },
    {
      "cell_type": "code",
      "execution_count": 28,
      "metadata": {
        "id": "fOYFAGWTsEOa"
      },
      "outputs": [],
      "source": [
        "class cpu:\n",
        "\n",
        "  def __init__(self,mb,graphic,rand,rom,psu):\n",
        "      self.motherboard = mb\n",
        "      self.gpu = graphic\n",
        "      self.ram = rand\n",
        "      self.ssd = rom\n",
        "      self.powersupply = psu\n",
        "\n",
        "  def forgaming(self):\n",
        "    print('the cpu is for gaming purpose')\n",
        "\n",
        "  def forperformance(self):\n",
        "    print('the '+self.gpu+' is for performance purpose')"
      ]
    },
    {
      "cell_type": "code",
      "source": [
        "cpu1 = cpu('asusrog','rtx3050','16gb','250gb','650w')\n",
        "cpu2 = cpu('msa', 'gtx1080','42gb','2pk','1500w')"
      ],
      "metadata": {
        "id": "XGORFZ0_27Vq"
      },
      "execution_count": 86,
      "outputs": []
    },
    {
      "cell_type": "code",
      "source": [
        "print(cpu1.motherboard)\n",
        "print(cpu1.gpu)\n",
        "print(cpu1.ram)\n",
        "print(cpu1.ssd)\n",
        "print(cpu1.powersupply)\n",
        "\n",
        "cpu1.forgaming()\n",
        "cpu1.forperformance()"
      ],
      "metadata": {
        "colab": {
          "base_uri": "https://localhost:8080/"
        },
        "id": "d3DPmqt27WB4",
        "outputId": "745c327d-3d7f-4246-f85b-d4e5a49bf38c"
      },
      "execution_count": 32,
      "outputs": [
        {
          "output_type": "stream",
          "name": "stdout",
          "text": [
            "asusrog\n",
            "rtx3050\n",
            "4gb\n",
            "250gb\n",
            "650w\n",
            "the cpu is for gaming purpose\n",
            "the rtx3050 is for performance purpose\n"
          ]
        }
      ]
    },
    {
      "cell_type": "code",
      "source": [
        "print(cpu2.motherboard)\n",
        "print(cpu2.gpu)\n",
        "print(cpu2.ram)\n",
        "print(cpu2.ssd)\n",
        "print(cpu2.powersupply)\n",
        "\n",
        "cpu2.forgaming()\n",
        "cpu2.forperformance()"
      ],
      "metadata": {
        "colab": {
          "base_uri": "https://localhost:8080/"
        },
        "id": "SPlcxA-UQAL7",
        "outputId": "93a59e0b-b53c-4133-f933-1fe9e1763e3a"
      },
      "execution_count": 87,
      "outputs": [
        {
          "output_type": "stream",
          "name": "stdout",
          "text": [
            "msa\n",
            "gtx1080\n",
            "42gb\n",
            "2pk\n",
            "1500w\n",
            "the cpu is for gaming purpose\n",
            "the gtx1080 is for performance purpose\n"
          ]
        }
      ]
    },
    {
      "cell_type": "markdown",
      "source": [
        "# Inheritance"
      ],
      "metadata": {
        "id": "xZXrhCXNY--B"
      }
    },
    {
      "cell_type": "code",
      "source": [
        "class animal:\n",
        "\n",
        "  alive = True\n",
        "\n",
        "  def eat(self):\n",
        "    print('this animal is eating')\n",
        "\n",
        "  def sleep(self):\n",
        "    print('this animal is sleeping')\n",
        "\n",
        "class rabbit(animal):\n",
        "  pass\n",
        "class fish(animal):\n",
        "  pass\n",
        "class hawk(animal):\n",
        "  pass\n",
        "\n",
        "#object\n",
        "rabbit = rabbit()\n",
        "fish = fish()\n",
        "hawk = hawk()\n",
        "\n",
        "print(hawk.eat())"
      ],
      "metadata": {
        "colab": {
          "base_uri": "https://localhost:8080/"
        },
        "id": "IoH13BvARrrI",
        "outputId": "51669e06-dd91-434d-c41c-84cd08d2ba18"
      },
      "execution_count": 93,
      "outputs": [
        {
          "output_type": "stream",
          "name": "stdout",
          "text": [
            "this animal is eating\n",
            "None\n"
          ]
        }
      ]
    },
    {
      "cell_type": "code",
      "source": [
        "class animal:\n",
        "\n",
        "  alive = True\n",
        "\n",
        "  def eat(self):\n",
        "    print('this animal is eating')\n",
        "\n",
        "  def sleep(self):\n",
        "    print('this animal is sleeping')\n",
        "\n",
        "class rabbit(animal):\n",
        "  def run(self):\n",
        "    print('the rabbit can run faster')\n",
        "\n",
        "class fish(animal):\n",
        "  def swim(self):\n",
        "    print('the fish can swim faster')\n",
        "\n",
        "class hawk(animal):\n",
        "  def fly(self):\n",
        "    print('the hawk can fly faster')\n",
        "\n",
        "#object\n",
        "rabbit = rabbit()\n",
        "fish = fish()\n",
        "hawk = hawk()\n",
        "\n",
        "\n",
        "rabbit.run()\n",
        "fish.swim()\n",
        "hawk.eat()\n"
      ],
      "metadata": {
        "colab": {
          "base_uri": "https://localhost:8080/"
        },
        "id": "gGAUHOSgZVYo",
        "outputId": "a325296f-e702-400a-fe23-25d99f378c07"
      },
      "execution_count": 95,
      "outputs": [
        {
          "output_type": "stream",
          "name": "stdout",
          "text": [
            "the rabbit can run faster\n",
            "the fish can swim faster\n",
            "this animal is eating\n"
          ]
        }
      ]
    },
    {
      "cell_type": "markdown",
      "source": [
        "# Multilevel Inheritance"
      ],
      "metadata": {
        "id": "DrBN2pccclAJ"
      }
    },
    {
      "cell_type": "code",
      "source": [
        "# multilevel inheritance = derived (child) class inherits another derived (child) class\n",
        "\n",
        "class organisms:\n",
        "\n",
        "  alive = True\n",
        "\n",
        "  def earth(self):\n",
        "    print('the organism is from earth')\n",
        "\n",
        "class animals(organisms):\n",
        "\n",
        "  def eat(self):\n",
        "    print('the animal can eat')\n",
        "\n",
        "class dog(animal):\n",
        "\n",
        "  def bark(self):\n",
        "    print('this dog can bark')\n",
        "\n",
        "#object\n",
        "organisms = organisms()\n",
        "animals = animals()\n",
        "dog = dog()\n",
        "\n",
        "organisms.alive\n",
        "animals.alive\n",
        "animals.eat()\n",
        "dog.alive\n",
        "dog.eat()\n",
        "dog.bark()"
      ],
      "metadata": {
        "colab": {
          "base_uri": "https://localhost:8080/"
        },
        "id": "6myl8QtDcGNI",
        "outputId": "949df29f-571c-444f-8452-6673a9ae0d0f"
      },
      "execution_count": 101,
      "outputs": [
        {
          "output_type": "stream",
          "name": "stdout",
          "text": [
            "the animal can eat\n",
            "this animal is eating\n",
            "this dog can bark\n"
          ]
        }
      ]
    },
    {
      "cell_type": "markdown",
      "source": [
        "# Multiple Inheritance"
      ],
      "metadata": {
        "id": "HxkKagopurtS"
      }
    },
    {
      "cell_type": "code",
      "source": [
        "# multiple Inheritance = when a child class derived from more than one parent class\n",
        "\n",
        "class prey:\n",
        "\n",
        "  def flee(self):\n",
        "    print('this animal flee')\n",
        "\n",
        "class predator:\n",
        "\n",
        "  def hunt(self):\n",
        "    print('this animal hunt')\n",
        "\n",
        "class rabbit(prey):\n",
        "  pass\n",
        "\n",
        "class hawk(predator):\n",
        "  pass\n",
        "\n",
        "class fish(prey, predator):\n",
        "  pass\n",
        "\n",
        "#object\n",
        "rabbit = rabbit()\n",
        "hawk = hawk()\n",
        "fish = fish()\n",
        "\n",
        "rabbit.flee()\n",
        "hawk.hunt()\n",
        "fish.flee()\n",
        "fish.hunt()"
      ],
      "metadata": {
        "colab": {
          "base_uri": "https://localhost:8080/"
        },
        "id": "ypEmv0xwe5bJ",
        "outputId": "e51b8307-6d48-4570-fe19-c41884e806b8"
      },
      "execution_count": 103,
      "outputs": [
        {
          "output_type": "stream",
          "name": "stdout",
          "text": [
            "this animal flee\n",
            "this animal hunt\n",
            "this animal flee\n",
            "this animal hunt\n"
          ]
        }
      ]
    },
    {
      "cell_type": "markdown",
      "source": [
        "# Overriding"
      ],
      "metadata": {
        "id": "IFMFalYLxGTS"
      }
    },
    {
      "cell_type": "code",
      "source": [
        "class animal:\n",
        "  def eat(self):\n",
        "    print('this animal is eating')\n",
        "\n",
        "class rabbit(animal):\n",
        "  def eat(self):\n",
        "    print('this rabbit eating carrot')\n",
        "\n",
        "rabbit = rabbit()\n",
        "\n",
        "rabbit.eat()"
      ],
      "metadata": {
        "colab": {
          "base_uri": "https://localhost:8080/"
        },
        "id": "KWl5Cgq6wmup",
        "outputId": "259fbd17-cea8-4d41-a485-8e1f7dff1779"
      },
      "execution_count": 104,
      "outputs": [
        {
          "output_type": "stream",
          "name": "stdout",
          "text": [
            "this rabbit eating carrot\n"
          ]
        }
      ]
    },
    {
      "cell_type": "markdown",
      "source": [
        "# Method Chaining"
      ],
      "metadata": {
        "id": "G8GorMbByRJD"
      }
    },
    {
      "cell_type": "code",
      "source": [
        "#method chaining = calling multiple methods sequentially, each call performs an action on the same object and returns self\n",
        "\n",
        "class car:\n",
        "\n",
        "  def turn_on(self):\n",
        "    print('youre starting the engine')\n",
        "    return self\n",
        "\n",
        "  def drive(self):\n",
        "    print('youre driving the car')\n",
        "    return self\n",
        "\n",
        "  def brake(self):\n",
        "    print('you step on the brakes')\n",
        "    return self\n",
        "\n",
        "  def turn_off(self):\n",
        "    print('youre trunofing the engine')\n",
        "    return self\n",
        "\n",
        "car = car()\n",
        "\n",
        "car.turn_on()\n",
        "car.drive()"
      ],
      "metadata": {
        "colab": {
          "base_uri": "https://localhost:8080/"
        },
        "id": "_cHloiJzyGR5",
        "outputId": "18efef14-8c7c-44c6-8b8a-b90f0e037b8c"
      },
      "execution_count": 108,
      "outputs": [
        {
          "output_type": "stream",
          "name": "stdout",
          "text": [
            "youre starting the engine\n",
            "youre driving the car\n"
          ]
        },
        {
          "output_type": "execute_result",
          "data": {
            "text/plain": [
              "<__main__.car at 0x79680e3e7c10>"
            ]
          },
          "metadata": {},
          "execution_count": 108
        }
      ]
    },
    {
      "cell_type": "code",
      "source": [
        "car.turn_on().drive() # in this case first pyton prints the statement for turn_on class and then it will go to self which is car class then it will call the drive"
      ],
      "metadata": {
        "colab": {
          "base_uri": "https://localhost:8080/"
        },
        "id": "kbz_3DE50fTB",
        "outputId": "66971e7b-0742-4580-fcd4-67720416481d"
      },
      "execution_count": 109,
      "outputs": [
        {
          "output_type": "stream",
          "name": "stdout",
          "text": [
            "youre starting the engine\n",
            "youre driving the car\n"
          ]
        },
        {
          "output_type": "execute_result",
          "data": {
            "text/plain": [
              "<__main__.car at 0x79680e3e7c10>"
            ]
          },
          "metadata": {},
          "execution_count": 109
        }
      ]
    },
    {
      "cell_type": "code",
      "source": [
        "car.turn_on()\\\n",
        "    .drive()\\\n",
        "    .brake()\\\n",
        "    .turn_off()"
      ],
      "metadata": {
        "colab": {
          "base_uri": "https://localhost:8080/"
        },
        "id": "NIjHbxae0ivx",
        "outputId": "d06526c1-a62a-42f9-a539-71ba9ef5a1b5"
      },
      "execution_count": 113,
      "outputs": [
        {
          "output_type": "stream",
          "name": "stdout",
          "text": [
            "youre starting the engine\n",
            "youre driving the car\n",
            "you step on the brakes\n",
            "youre trunofing the engine\n"
          ]
        },
        {
          "output_type": "execute_result",
          "data": {
            "text/plain": [
              "<__main__.car at 0x79680e3e7c10>"
            ]
          },
          "metadata": {},
          "execution_count": 113
        }
      ]
    },
    {
      "cell_type": "markdown",
      "source": [
        "# Super Function"
      ],
      "metadata": {
        "id": "-__qSI0x2ez6"
      }
    },
    {
      "cell_type": "code",
      "source": [
        "# Super() = function used to give access to methods of a parent class, returns a temporary object of a parent class when used\n",
        "\n",
        "class rectangle:\n",
        "  pass\n",
        "\n",
        "class square(rectangle):\n",
        "\n",
        "  def __init__(self, length, width):   #the statements used in this program is repeted in cube class so we can change this into parent class and use super function to call\n",
        "    self.length = length\n",
        "    self.width = width\n",
        "\n",
        "class cube(rectangle):\n",
        "\n",
        "  def __init__(self, length, width,height):\n",
        "    self.length = length\n",
        "    self.width = width\n",
        "    self.height = height\n",
        "\n",
        "square = square(3,3)\n",
        "cube = cube(3,3,3)"
      ],
      "metadata": {
        "id": "IAvI37Q_1jIB"
      },
      "execution_count": 114,
      "outputs": []
    },
    {
      "cell_type": "code",
      "source": [
        "class rectangle:\n",
        "\n",
        "  def __init__(self, length, width):\n",
        "    self.length = length\n",
        "    self.width = width\n",
        "\n",
        "class square(rectangle):\n",
        "\n",
        "  def __init__(self, length, width):\n",
        "    super().__init__(length, width)\n",
        "\n",
        "  def area(self):\n",
        "    return self.length*self.width\n",
        "\n",
        "class cube(rectangle):\n",
        "\n",
        "  def __init__(self, length, width,height):\n",
        "    super().__init__(length, width)\n",
        "    self.height = height\n",
        "\n",
        "  def volume(self):\n",
        "    return self.length*self.width*self.height\n",
        "\n",
        "square = square(3,3)\n",
        "cube = cube(3,3,3)\n",
        "\n",
        "print(square.area())\n",
        "print(cube.volume())"
      ],
      "metadata": {
        "colab": {
          "base_uri": "https://localhost:8080/"
        },
        "id": "kUdxzeD-43AT",
        "outputId": "e55261f6-b322-4e96-ef2c-9856d6de8935"
      },
      "execution_count": 116,
      "outputs": [
        {
          "output_type": "stream",
          "name": "stdout",
          "text": [
            "9\n",
            "27\n"
          ]
        }
      ]
    },
    {
      "cell_type": "code",
      "source": [],
      "metadata": {
        "id": "9G980Slb6pEx"
      },
      "execution_count": null,
      "outputs": []
    }
  ]
}